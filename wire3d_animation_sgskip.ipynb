{
  "cells": [
    {
      "cell_type": "code",
      "execution_count": null,
      "metadata": {
        "collapsed": false
      },
      "outputs": [],
      "source": [
        "%matplotlib inline"
      ]
    },
    {
      "cell_type": "markdown",
      "metadata": {},
      "source": [
        "\n",
        "# Animating a 3D wireframe plot\n",
        "\n",
        "A very simple \"animation\" of a 3D plot.  See also :doc:`rotate_axes3d_sgskip`.\n",
        "\n",
        "(This example is skipped when building the documentation gallery because it\n",
        "intentionally takes a long time to run)\n"
      ]
    },
    {
      "cell_type": "code",
      "execution_count": null,
      "metadata": {
        "collapsed": false
      },
      "outputs": [],
      "source": [
        "import matplotlib.pyplot as plt\n",
        "import numpy as np\n",
        "import time\n",
        "\n",
        "\n",
        "fig = plt.figure()\n",
        "ax = fig.add_subplot(projection='3d')\n",
        "\n",
        "# Make the X, Y meshgrid.\n",
        "xs = np.linspace(-1, 1, 50)\n",
        "ys = np.linspace(-1, 1, 50)\n",
        "X, Y = np.meshgrid(xs, ys)\n",
        "\n",
        "# Set the z axis limits so they aren't recalculated each frame.\n",
        "ax.set_zlim(-1, 1)\n",
        "\n",
        "# Begin plotting.\n",
        "wframe = None\n",
        "tstart = time.time()\n",
        "for phi in np.linspace(0, 180. / np.pi, 100):\n",
        "    # If a line collection is already remove it before drawing.\n",
        "    if wframe:\n",
        "        wframe.remove()\n",
        "    # Generate data.\n",
        "    Z = np.cos(2 * np.pi * X + phi) * (1 - np.hypot(X, Y))\n",
        "    # Plot the new wireframe and pause briefly before continuing.\n",
        "    wframe = ax.plot_wireframe(X, Y, Z, rstride=2, cstride=2)\n",
        "    plt.pause(.001)\n",
        "\n",
        "print('Average FPS: %f' % (100 / (time.time() - tstart)))"
      ]
    },
    {
      "cell_type": "code",
      "execution_count": null,
      "metadata": {},
      "outputs": [],
      "source": []
    }
  ],
  "metadata": {
    "kernelspec": {
      "display_name": "Python 3.10.7 64-bit",
      "language": "python",
      "name": "python3"
    },
    "language_info": {
      "codemirror_mode": {
        "name": "ipython",
        "version": 3
      },
      "file_extension": ".py",
      "mimetype": "text/x-python",
      "name": "python",
      "nbconvert_exporter": "python",
      "pygments_lexer": "ipython3",
      "version": "3.10.7"
    },
    "vscode": {
      "interpreter": {
        "hash": "aee8b7b246df8f9039afb4144a1f6fd8d2ca17a180786b69acc140d282b71a49"
      }
    }
  },
  "nbformat": 4,
  "nbformat_minor": 0
}
